{
 "cells": [
  {
   "cell_type": "code",
   "execution_count": 1,
   "id": "initial_id",
   "metadata": {
    "ExecuteTime": {
     "end_time": "2024-03-26T11:22:34.844921Z",
     "start_time": "2024-03-26T11:22:34.165928Z"
    }
   },
   "outputs": [],
   "source": [
    "import pandas as pd # data processing, CSV file I/O (e.g. pd.read_csv)"
   ]
  },
  {
   "cell_type": "markdown",
   "id": "ed4f33de",
   "metadata": {},
   "source": [
    "### Data Acquisition"
   ]
  },
  {
   "cell_type": "code",
   "execution_count": 2,
   "id": "dce903582a41875c",
   "metadata": {
    "ExecuteTime": {
     "end_time": "2024-03-26T11:22:34.962786Z",
     "start_time": "2024-03-26T11:22:34.846927Z"
    }
   },
   "outputs": [
    {
     "data": {
      "text/html": [
       "<div>\n",
       "<style scoped>\n",
       "    .dataframe tbody tr th:only-of-type {\n",
       "        vertical-align: middle;\n",
       "    }\n",
       "\n",
       "    .dataframe tbody tr th {\n",
       "        vertical-align: top;\n",
       "    }\n",
       "\n",
       "    .dataframe thead th {\n",
       "        text-align: right;\n",
       "    }\n",
       "</style>\n",
       "<table border=\"1\" class=\"dataframe\">\n",
       "  <thead>\n",
       "    <tr style=\"text-align: right;\">\n",
       "      <th></th>\n",
       "      <th>NDB_No</th>\n",
       "      <th>Shrt_Desc</th>\n",
       "      <th>Water_(g)</th>\n",
       "      <th>Energ_Kcal</th>\n",
       "      <th>Protein_(g)</th>\n",
       "      <th>Lipid_Tot_(g)</th>\n",
       "      <th>Ash_(g)</th>\n",
       "      <th>Carbohydrt_(g)</th>\n",
       "      <th>Fiber_TD_(g)</th>\n",
       "      <th>Sugar_Tot_(g)</th>\n",
       "      <th>...</th>\n",
       "      <th>Vit_D_IU</th>\n",
       "      <th>Vit_K_(¾g)</th>\n",
       "      <th>FA_Sat_(g)</th>\n",
       "      <th>FA_Mono_(g)</th>\n",
       "      <th>FA_Poly_(g)</th>\n",
       "      <th>Cholestrl_(mg)</th>\n",
       "      <th>GmWt_1</th>\n",
       "      <th>GmWt_Desc1</th>\n",
       "      <th>GmWt_2</th>\n",
       "      <th>GmWt_Desc2</th>\n",
       "    </tr>\n",
       "  </thead>\n",
       "  <tbody>\n",
       "    <tr>\n",
       "      <th>0</th>\n",
       "      <td>1001</td>\n",
       "      <td>BUTTER,WITH SALT</td>\n",
       "      <td>15.87</td>\n",
       "      <td>717</td>\n",
       "      <td>0.85</td>\n",
       "      <td>81.11</td>\n",
       "      <td>2.11</td>\n",
       "      <td>0.06</td>\n",
       "      <td>0.0</td>\n",
       "      <td>0.06</td>\n",
       "      <td>...</td>\n",
       "      <td>0.0</td>\n",
       "      <td>7.0</td>\n",
       "      <td>51.368</td>\n",
       "      <td>21.021</td>\n",
       "      <td>3.043</td>\n",
       "      <td>215.0</td>\n",
       "      <td>5.00</td>\n",
       "      <td>1 pat,  (1\" sq, 1/3\" high)</td>\n",
       "      <td>14.2</td>\n",
       "      <td>1 tbsp</td>\n",
       "    </tr>\n",
       "    <tr>\n",
       "      <th>1</th>\n",
       "      <td>1002</td>\n",
       "      <td>BUTTER,WHIPPED,W/ SALT</td>\n",
       "      <td>16.72</td>\n",
       "      <td>718</td>\n",
       "      <td>0.49</td>\n",
       "      <td>78.30</td>\n",
       "      <td>1.62</td>\n",
       "      <td>2.87</td>\n",
       "      <td>0.0</td>\n",
       "      <td>0.06</td>\n",
       "      <td>...</td>\n",
       "      <td>0.0</td>\n",
       "      <td>4.6</td>\n",
       "      <td>45.390</td>\n",
       "      <td>19.874</td>\n",
       "      <td>3.331</td>\n",
       "      <td>225.0</td>\n",
       "      <td>3.80</td>\n",
       "      <td>1 pat,  (1\" sq, 1/3\" high)</td>\n",
       "      <td>9.4</td>\n",
       "      <td>1 tbsp</td>\n",
       "    </tr>\n",
       "    <tr>\n",
       "      <th>2</th>\n",
       "      <td>1003</td>\n",
       "      <td>BUTTER OIL,ANHYDROUS</td>\n",
       "      <td>0.24</td>\n",
       "      <td>876</td>\n",
       "      <td>0.28</td>\n",
       "      <td>99.48</td>\n",
       "      <td>0.00</td>\n",
       "      <td>0.00</td>\n",
       "      <td>0.0</td>\n",
       "      <td>0.00</td>\n",
       "      <td>...</td>\n",
       "      <td>0.0</td>\n",
       "      <td>8.6</td>\n",
       "      <td>61.924</td>\n",
       "      <td>28.732</td>\n",
       "      <td>3.694</td>\n",
       "      <td>256.0</td>\n",
       "      <td>12.80</td>\n",
       "      <td>1 tbsp</td>\n",
       "      <td>205.0</td>\n",
       "      <td>1 cup</td>\n",
       "    </tr>\n",
       "    <tr>\n",
       "      <th>3</th>\n",
       "      <td>1004</td>\n",
       "      <td>CHEESE,BLUE</td>\n",
       "      <td>42.41</td>\n",
       "      <td>353</td>\n",
       "      <td>21.40</td>\n",
       "      <td>28.74</td>\n",
       "      <td>5.11</td>\n",
       "      <td>2.34</td>\n",
       "      <td>0.0</td>\n",
       "      <td>0.50</td>\n",
       "      <td>...</td>\n",
       "      <td>21.0</td>\n",
       "      <td>2.4</td>\n",
       "      <td>18.669</td>\n",
       "      <td>7.778</td>\n",
       "      <td>0.800</td>\n",
       "      <td>75.0</td>\n",
       "      <td>28.35</td>\n",
       "      <td>1 oz</td>\n",
       "      <td>17.0</td>\n",
       "      <td>1 cubic inch</td>\n",
       "    </tr>\n",
       "    <tr>\n",
       "      <th>4</th>\n",
       "      <td>1005</td>\n",
       "      <td>CHEESE,BRICK</td>\n",
       "      <td>41.11</td>\n",
       "      <td>371</td>\n",
       "      <td>23.24</td>\n",
       "      <td>29.68</td>\n",
       "      <td>3.18</td>\n",
       "      <td>2.79</td>\n",
       "      <td>0.0</td>\n",
       "      <td>0.51</td>\n",
       "      <td>...</td>\n",
       "      <td>22.0</td>\n",
       "      <td>2.5</td>\n",
       "      <td>18.764</td>\n",
       "      <td>8.598</td>\n",
       "      <td>0.784</td>\n",
       "      <td>94.0</td>\n",
       "      <td>132.00</td>\n",
       "      <td>1 cup, diced</td>\n",
       "      <td>113.0</td>\n",
       "      <td>1 cup, shredded</td>\n",
       "    </tr>\n",
       "  </tbody>\n",
       "</table>\n",
       "<p>5 rows × 52 columns</p>\n",
       "</div>"
      ],
      "text/plain": [
       "   NDB_No               Shrt_Desc  Water_(g)  Energ_Kcal  Protein_(g)  \\\n",
       "0    1001        BUTTER,WITH SALT      15.87         717         0.85   \n",
       "1    1002  BUTTER,WHIPPED,W/ SALT      16.72         718         0.49   \n",
       "2    1003    BUTTER OIL,ANHYDROUS       0.24         876         0.28   \n",
       "3    1004             CHEESE,BLUE      42.41         353        21.40   \n",
       "4    1005            CHEESE,BRICK      41.11         371        23.24   \n",
       "\n",
       "   Lipid_Tot_(g)  Ash_(g)  Carbohydrt_(g)  Fiber_TD_(g)  Sugar_Tot_(g)  ...  \\\n",
       "0          81.11     2.11            0.06           0.0           0.06  ...   \n",
       "1          78.30     1.62            2.87           0.0           0.06  ...   \n",
       "2          99.48     0.00            0.00           0.0           0.00  ...   \n",
       "3          28.74     5.11            2.34           0.0           0.50  ...   \n",
       "4          29.68     3.18            2.79           0.0           0.51  ...   \n",
       "\n",
       "   Vit_D_IU  Vit_K_(¾g)  FA_Sat_(g)  FA_Mono_(g)  FA_Poly_(g)  Cholestrl_(mg)  \\\n",
       "0       0.0         7.0      51.368       21.021        3.043           215.0   \n",
       "1       0.0         4.6      45.390       19.874        3.331           225.0   \n",
       "2       0.0         8.6      61.924       28.732        3.694           256.0   \n",
       "3      21.0         2.4      18.669        7.778        0.800            75.0   \n",
       "4      22.0         2.5      18.764        8.598        0.784            94.0   \n",
       "\n",
       "   GmWt_1                  GmWt_Desc1  GmWt_2       GmWt_Desc2  \n",
       "0    5.00  1 pat,  (1\" sq, 1/3\" high)    14.2           1 tbsp  \n",
       "1    3.80  1 pat,  (1\" sq, 1/3\" high)     9.4           1 tbsp  \n",
       "2   12.80                      1 tbsp   205.0            1 cup  \n",
       "3   28.35                        1 oz    17.0     1 cubic inch  \n",
       "4  132.00                1 cup, diced   113.0  1 cup, shredded  \n",
       "\n",
       "[5 rows x 52 columns]"
      ]
     },
     "execution_count": 2,
     "metadata": {},
     "output_type": "execute_result"
    }
   ],
   "source": [
    "# Retrieve dataset and read first 5 rows\n",
    "NutritionList =pd.read_csv(r\"../Dataset/Initial Dataset/Nutritions_US.csv\", encoding= 'unicode_escape')\n",
    "NutritionList.head(5)"
   ]
  },
  {
   "cell_type": "code",
   "execution_count": 3,
   "id": "a18b615be98ddcf8",
   "metadata": {
    "ExecuteTime": {
     "end_time": "2024-03-26T11:22:34.989033Z",
     "start_time": "2024-03-26T11:22:34.964790Z"
    }
   },
   "outputs": [
    {
     "name": "stdout",
     "output_type": "stream",
     "text": [
      "<class 'pandas.core.frame.DataFrame'>\n",
      "RangeIndex: 8790 entries, 0 to 8789\n",
      "Data columns (total 52 columns):\n",
      " #   Column             Non-Null Count  Dtype  \n",
      "---  ------             --------------  -----  \n",
      " 0   NDB_No             8790 non-null   int64  \n",
      " 1   Shrt_Desc          8790 non-null   object \n",
      " 2   Water_(g)          8789 non-null   float64\n",
      " 3   Energ_Kcal         8790 non-null   int64  \n",
      " 4   Protein_(g)        8790 non-null   float64\n",
      " 5   Lipid_Tot_(g)      8790 non-null   float64\n",
      " 6   Ash_(g)            8465 non-null   float64\n",
      " 7   Carbohydrt_(g)     8790 non-null   float64\n",
      " 8   Fiber_TD_(g)       8196 non-null   float64\n",
      " 9   Sugar_Tot_(g)      6958 non-null   float64\n",
      " 10  Calcium_(mg)       8442 non-null   float64\n",
      " 11  Iron_(mg)          8646 non-null   float64\n",
      " 12  Magnesium_(mg)     8051 non-null   float64\n",
      " 13  Phosphorus_(mg)    8211 non-null   float64\n",
      " 14  Potassium_(mg)     8364 non-null   float64\n",
      " 15  Sodium_(mg)        8707 non-null   float64\n",
      " 16  Zinc_(mg)          8084 non-null   float64\n",
      " 17  Copper_mg)         7533 non-null   float64\n",
      " 18  Manganese_(mg)     6630 non-null   float64\n",
      " 19  Selenium_(¾g)      7090 non-null   float64\n",
      " 20  Vit_C_(mg)         7972 non-null   float64\n",
      " 21  Thiamin_(mg)       8156 non-null   float64\n",
      " 22  Riboflavin_(mg)    8174 non-null   float64\n",
      " 23  Niacin_(mg)        8153 non-null   float64\n",
      " 24  Panto_Acid_mg)     6548 non-null   float64\n",
      " 25  Vit_B6_(mg)        7885 non-null   float64\n",
      " 26  Folate_Tot_(¾g)    7529 non-null   float64\n",
      " 27  Folic_Acid_(¾g)    6751 non-null   float64\n",
      " 28  Food_Folate_(¾g)   7022 non-null   float64\n",
      " 29  Folate_DFE_(¾g)    6733 non-null   float64\n",
      " 30  Choline_Tot_ (mg)  4774 non-null   float64\n",
      " 31  Vit_B12_(¾g)       7597 non-null   float64\n",
      " 32  Vit_A_IU           8079 non-null   float64\n",
      " 33  Vit_A_RAE          7255 non-null   float64\n",
      " 34  Retinol_(¾g)       6984 non-null   float64\n",
      " 35  Alpha_Carot_(¾g)   5532 non-null   float64\n",
      " 36  Beta_Carot_(¾g)    5628 non-null   float64\n",
      " 37  Beta_Crypt_(¾g)    5520 non-null   float64\n",
      " 38  Lycopene_(¾g)      5498 non-null   float64\n",
      " 39  Lut+Zea_ (¾g)      5475 non-null   float64\n",
      " 40  Vit_E_(mg)         5901 non-null   float64\n",
      " 41  Vit_D_¾g           5528 non-null   float64\n",
      " 42  Vit_D_IU           5579 non-null   float64\n",
      " 43  Vit_K_(¾g)         5227 non-null   float64\n",
      " 44  FA_Sat_(g)         8441 non-null   float64\n",
      " 45  FA_Mono_(g)        8124 non-null   float64\n",
      " 46  FA_Poly_(g)        8125 non-null   float64\n",
      " 47  Cholestrl_(mg)     8380 non-null   float64\n",
      " 48  GmWt_1             8490 non-null   float64\n",
      " 49  GmWt_Desc1         8491 non-null   object \n",
      " 50  GmWt_2             4825 non-null   float64\n",
      " 51  GmWt_Desc2         4825 non-null   object \n",
      "dtypes: float64(47), int64(2), object(3)\n",
      "memory usage: 3.5+ MB\n"
     ]
    }
   ],
   "source": [
    "# display the information for each feature\n",
    "NutritionList.info()"
   ]
  },
  {
   "cell_type": "markdown",
   "id": "ce93c06f",
   "metadata": {},
   "source": [
    "### Extract Relevant Data: A drill down focus on macronutrient"
   ]
  },
  {
   "cell_type": "code",
   "execution_count": 4,
   "id": "7a3737fd870ea068",
   "metadata": {
    "ExecuteTime": {
     "end_time": "2024-03-26T11:22:41.525269Z",
     "start_time": "2024-03-26T11:22:41.517742Z"
    }
   },
   "outputs": [],
   "source": [
    "# extract these features to served as the macronutrient dataset\n",
    "macroNutrient_Orig = NutritionList[['NDB_No', 'Shrt_Desc', 'Energ_Kcal', 'Carbohydrt_(g)', 'Protein_(g)', 'Lipid_Tot_(g)', 'FA_Mono_(g)', 'FA_Poly_(g)', 'FA_Sat_(g)']]"
   ]
  },
  {
   "cell_type": "code",
   "execution_count": 5,
   "id": "32452ebec711108b",
   "metadata": {
    "ExecuteTime": {
     "end_time": "2024-03-26T11:22:45.527682Z",
     "start_time": "2024-03-26T11:22:45.513888Z"
    }
   },
   "outputs": [
    {
     "data": {
      "text/html": [
       "<div>\n",
       "<style scoped>\n",
       "    .dataframe tbody tr th:only-of-type {\n",
       "        vertical-align: middle;\n",
       "    }\n",
       "\n",
       "    .dataframe tbody tr th {\n",
       "        vertical-align: top;\n",
       "    }\n",
       "\n",
       "    .dataframe thead th {\n",
       "        text-align: right;\n",
       "    }\n",
       "</style>\n",
       "<table border=\"1\" class=\"dataframe\">\n",
       "  <thead>\n",
       "    <tr style=\"text-align: right;\">\n",
       "      <th></th>\n",
       "      <th>NDB_No</th>\n",
       "      <th>Shrt_Desc</th>\n",
       "      <th>Energ_Kcal</th>\n",
       "      <th>Carbohydrt_(g)</th>\n",
       "      <th>Protein_(g)</th>\n",
       "      <th>Lipid_Tot_(g)</th>\n",
       "      <th>FA_Mono_(g)</th>\n",
       "      <th>FA_Poly_(g)</th>\n",
       "      <th>FA_Sat_(g)</th>\n",
       "    </tr>\n",
       "  </thead>\n",
       "  <tbody>\n",
       "    <tr>\n",
       "      <th>0</th>\n",
       "      <td>1001</td>\n",
       "      <td>BUTTER,WITH SALT</td>\n",
       "      <td>717</td>\n",
       "      <td>0.06</td>\n",
       "      <td>0.85</td>\n",
       "      <td>81.11</td>\n",
       "      <td>21.021</td>\n",
       "      <td>3.043</td>\n",
       "      <td>51.368</td>\n",
       "    </tr>\n",
       "    <tr>\n",
       "      <th>1</th>\n",
       "      <td>1002</td>\n",
       "      <td>BUTTER,WHIPPED,W/ SALT</td>\n",
       "      <td>718</td>\n",
       "      <td>2.87</td>\n",
       "      <td>0.49</td>\n",
       "      <td>78.30</td>\n",
       "      <td>19.874</td>\n",
       "      <td>3.331</td>\n",
       "      <td>45.390</td>\n",
       "    </tr>\n",
       "    <tr>\n",
       "      <th>2</th>\n",
       "      <td>1003</td>\n",
       "      <td>BUTTER OIL,ANHYDROUS</td>\n",
       "      <td>876</td>\n",
       "      <td>0.00</td>\n",
       "      <td>0.28</td>\n",
       "      <td>99.48</td>\n",
       "      <td>28.732</td>\n",
       "      <td>3.694</td>\n",
       "      <td>61.924</td>\n",
       "    </tr>\n",
       "    <tr>\n",
       "      <th>3</th>\n",
       "      <td>1004</td>\n",
       "      <td>CHEESE,BLUE</td>\n",
       "      <td>353</td>\n",
       "      <td>2.34</td>\n",
       "      <td>21.40</td>\n",
       "      <td>28.74</td>\n",
       "      <td>7.778</td>\n",
       "      <td>0.800</td>\n",
       "      <td>18.669</td>\n",
       "    </tr>\n",
       "    <tr>\n",
       "      <th>4</th>\n",
       "      <td>1005</td>\n",
       "      <td>CHEESE,BRICK</td>\n",
       "      <td>371</td>\n",
       "      <td>2.79</td>\n",
       "      <td>23.24</td>\n",
       "      <td>29.68</td>\n",
       "      <td>8.598</td>\n",
       "      <td>0.784</td>\n",
       "      <td>18.764</td>\n",
       "    </tr>\n",
       "  </tbody>\n",
       "</table>\n",
       "</div>"
      ],
      "text/plain": [
       "   NDB_No               Shrt_Desc  Energ_Kcal  Carbohydrt_(g)  Protein_(g)  \\\n",
       "0    1001        BUTTER,WITH SALT         717            0.06         0.85   \n",
       "1    1002  BUTTER,WHIPPED,W/ SALT         718            2.87         0.49   \n",
       "2    1003    BUTTER OIL,ANHYDROUS         876            0.00         0.28   \n",
       "3    1004             CHEESE,BLUE         353            2.34        21.40   \n",
       "4    1005            CHEESE,BRICK         371            2.79        23.24   \n",
       "\n",
       "   Lipid_Tot_(g)  FA_Mono_(g)  FA_Poly_(g)  FA_Sat_(g)  \n",
       "0          81.11       21.021        3.043      51.368  \n",
       "1          78.30       19.874        3.331      45.390  \n",
       "2          99.48       28.732        3.694      61.924  \n",
       "3          28.74        7.778        0.800      18.669  \n",
       "4          29.68        8.598        0.784      18.764  "
      ]
     },
     "execution_count": 5,
     "metadata": {},
     "output_type": "execute_result"
    }
   ],
   "source": [
    "macroNutrient_Orig.head()"
   ]
  },
  {
   "cell_type": "code",
   "execution_count": 6,
   "id": "02c318fa",
   "metadata": {},
   "outputs": [
    {
     "name": "stderr",
     "output_type": "stream",
     "text": [
      "C:\\Users\\tky12\\AppData\\Local\\Temp\\ipykernel_13244\\4249863458.py:2: SettingWithCopyWarning: \n",
      "A value is trying to be set on a copy of a slice from a DataFrame\n",
      "\n",
      "See the caveats in the documentation: https://pandas.pydata.org/pandas-docs/stable/user_guide/indexing.html#returning-a-view-versus-a-copy\n",
      "  macroNutrient_Orig.rename(columns={\"NDB_No\": \"No.\", \"Shrt_Desc\": \"Description\", \"Energ_Kcal\": \"Energy (Kcal)\", \"Carbohydrt_(g)\": \"Carbohydrate(g)\", \"Protein_(g)\": \"Protein(g)\", \"Lipid_Tot_(g)\": \"Total Lipid(g)\", \"FA_Mono_(g)\": \"Monounsaturated Fatty Acids(g)\", \"FA_Poly_(g)\": \"Polyunsaturated Fatty Acids(g)\", \"FA_Sat_(g)\": \"Saturated Fatty Acids(g)\"}, inplace=True)\n"
     ]
    }
   ],
   "source": [
    "# columns renaming\n",
    "macroNutrient_Orig.rename(columns={\"NDB_No\": \"No.\", \"Shrt_Desc\": \"Description\", \"Energ_Kcal\": \"Energy (Kcal)\", \"Carbohydrt_(g)\": \"Carbohydrate(g)\", \"Protein_(g)\": \"Protein(g)\", \"Lipid_Tot_(g)\": \"Total Lipid(g)\", \"FA_Mono_(g)\": \"Monounsaturated Fatty Acids(g)\", \"FA_Poly_(g)\": \"Polyunsaturated Fatty Acids(g)\", \"FA_Sat_(g)\": \"Saturated Fatty Acids(g)\"}, inplace=True)"
   ]
  },
  {
   "cell_type": "code",
   "execution_count": 7,
   "id": "962b9ff2bed93970",
   "metadata": {
    "ExecuteTime": {
     "end_time": "2024-03-23T20:11:50.017925Z",
     "start_time": "2024-03-23T20:11:50.011099Z"
    }
   },
   "outputs": [
    {
     "name": "stdout",
     "output_type": "stream",
     "text": [
      "<class 'pandas.core.frame.DataFrame'>\n",
      "RangeIndex: 8790 entries, 0 to 8789\n",
      "Data columns (total 9 columns):\n",
      " #   Column                          Non-Null Count  Dtype  \n",
      "---  ------                          --------------  -----  \n",
      " 0   No.                             8790 non-null   int64  \n",
      " 1   Description                     8790 non-null   object \n",
      " 2   Energy (Kcal)                   8790 non-null   int64  \n",
      " 3   Carbohydrate(g)                 8790 non-null   float64\n",
      " 4   Protein(g)                      8790 non-null   float64\n",
      " 5   Total Lipid(g)                  8790 non-null   float64\n",
      " 6   Monounsaturated Fatty Acids(g)  8124 non-null   float64\n",
      " 7   Polyunsaturated Fatty Acids(g)  8125 non-null   float64\n",
      " 8   Saturated Fatty Acids(g)        8441 non-null   float64\n",
      "dtypes: float64(6), int64(2), object(1)\n",
      "memory usage: 618.2+ KB\n"
     ]
    }
   ],
   "source": [
    "macroNutrient_Orig.info()"
   ]
  },
  {
   "cell_type": "code",
   "execution_count": 8,
   "id": "f9f44cf1742fd5bb",
   "metadata": {
    "ExecuteTime": {
     "end_time": "2024-03-23T20:11:50.021878Z",
     "start_time": "2024-03-23T20:11:50.017925Z"
    }
   },
   "outputs": [],
   "source": [
    "# Convert No. to object since it is a unique identity ID\n",
    "macroNutrient_Orig.loc[:,\"No.\"] = macroNutrient_Orig.loc[:,\"No.\"].astype('object')"
   ]
  },
  {
   "cell_type": "code",
   "execution_count": 9,
   "id": "9fb1f1c222f2d39b",
   "metadata": {
    "ExecuteTime": {
     "end_time": "2024-03-23T20:11:50.029838Z",
     "start_time": "2024-03-23T20:11:50.022937Z"
    },
    "scrolled": true
   },
   "outputs": [
    {
     "name": "stdout",
     "output_type": "stream",
     "text": [
      "<class 'pandas.core.frame.DataFrame'>\n",
      "RangeIndex: 8790 entries, 0 to 8789\n",
      "Data columns (total 9 columns):\n",
      " #   Column                          Non-Null Count  Dtype  \n",
      "---  ------                          --------------  -----  \n",
      " 0   No.                             8790 non-null   object \n",
      " 1   Description                     8790 non-null   object \n",
      " 2   Energy (Kcal)                   8790 non-null   int64  \n",
      " 3   Carbohydrate(g)                 8790 non-null   float64\n",
      " 4   Protein(g)                      8790 non-null   float64\n",
      " 5   Total Lipid(g)                  8790 non-null   float64\n",
      " 6   Monounsaturated Fatty Acids(g)  8124 non-null   float64\n",
      " 7   Polyunsaturated Fatty Acids(g)  8125 non-null   float64\n",
      " 8   Saturated Fatty Acids(g)        8441 non-null   float64\n",
      "dtypes: float64(6), int64(1), object(2)\n",
      "memory usage: 618.2+ KB\n"
     ]
    }
   ],
   "source": [
    "# observe the changes\n",
    "macroNutrient_Orig.info()"
   ]
  },
  {
   "cell_type": "code",
   "execution_count": 10,
   "id": "ecff7bc8",
   "metadata": {},
   "outputs": [
    {
     "data": {
      "text/html": [
       "<div>\n",
       "<style scoped>\n",
       "    .dataframe tbody tr th:only-of-type {\n",
       "        vertical-align: middle;\n",
       "    }\n",
       "\n",
       "    .dataframe tbody tr th {\n",
       "        vertical-align: top;\n",
       "    }\n",
       "\n",
       "    .dataframe thead th {\n",
       "        text-align: right;\n",
       "    }\n",
       "</style>\n",
       "<table border=\"1\" class=\"dataframe\">\n",
       "  <thead>\n",
       "    <tr style=\"text-align: right;\">\n",
       "      <th></th>\n",
       "      <th>No.</th>\n",
       "      <th>Description</th>\n",
       "      <th>Energy (Kcal)</th>\n",
       "      <th>Carbohydrate(g)</th>\n",
       "      <th>Protein(g)</th>\n",
       "      <th>Total Lipid(g)</th>\n",
       "      <th>Monounsaturated Fatty Acids(g)</th>\n",
       "      <th>Polyunsaturated Fatty Acids(g)</th>\n",
       "      <th>Saturated Fatty Acids(g)</th>\n",
       "    </tr>\n",
       "  </thead>\n",
       "  <tbody>\n",
       "    <tr>\n",
       "      <th>4633</th>\n",
       "      <td>15155</td>\n",
       "      <td>ABALONE,MIXED SPECIES,RAW</td>\n",
       "      <td>105</td>\n",
       "      <td>6.01</td>\n",
       "      <td>17.10</td>\n",
       "      <td>0.76</td>\n",
       "      <td>0.107</td>\n",
       "      <td>0.104</td>\n",
       "      <td>0.149</td>\n",
       "    </tr>\n",
       "    <tr>\n",
       "      <th>4634</th>\n",
       "      <td>15156</td>\n",
       "      <td>ABALONE,MXD SP,CKD,FRIED</td>\n",
       "      <td>189</td>\n",
       "      <td>11.05</td>\n",
       "      <td>19.63</td>\n",
       "      <td>6.78</td>\n",
       "      <td>2.741</td>\n",
       "      <td>1.676</td>\n",
       "      <td>1.646</td>\n",
       "    </tr>\n",
       "    <tr>\n",
       "      <th>2427</th>\n",
       "      <td>9427</td>\n",
       "      <td>ABIYUCH,RAW</td>\n",
       "      <td>69</td>\n",
       "      <td>17.60</td>\n",
       "      <td>1.50</td>\n",
       "      <td>0.10</td>\n",
       "      <td>NaN</td>\n",
       "      <td>NaN</td>\n",
       "      <td>0.014</td>\n",
       "    </tr>\n",
       "    <tr>\n",
       "      <th>2120</th>\n",
       "      <td>9002</td>\n",
       "      <td>ACEROLA JUICE,RAW</td>\n",
       "      <td>23</td>\n",
       "      <td>4.80</td>\n",
       "      <td>0.40</td>\n",
       "      <td>0.30</td>\n",
       "      <td>0.082</td>\n",
       "      <td>0.090</td>\n",
       "      <td>0.068</td>\n",
       "    </tr>\n",
       "    <tr>\n",
       "      <th>2119</th>\n",
       "      <td>9001</td>\n",
       "      <td>ACEROLA,(WEST INDIAN CHERRY),RAW</td>\n",
       "      <td>32</td>\n",
       "      <td>7.69</td>\n",
       "      <td>0.40</td>\n",
       "      <td>0.30</td>\n",
       "      <td>0.082</td>\n",
       "      <td>0.090</td>\n",
       "      <td>0.068</td>\n",
       "    </tr>\n",
       "    <tr>\n",
       "      <th>...</th>\n",
       "      <td>...</td>\n",
       "      <td>...</td>\n",
       "      <td>...</td>\n",
       "      <td>...</td>\n",
       "      <td>...</td>\n",
       "      <td>...</td>\n",
       "      <td>...</td>\n",
       "      <td>...</td>\n",
       "      <td>...</td>\n",
       "    </tr>\n",
       "    <tr>\n",
       "      <th>107</th>\n",
       "      <td>1119</td>\n",
       "      <td>YOGURT,VANILLA,LOFAT,11 GRAMS PROT PER 8 OZ</td>\n",
       "      <td>85</td>\n",
       "      <td>13.80</td>\n",
       "      <td>4.93</td>\n",
       "      <td>1.25</td>\n",
       "      <td>0.343</td>\n",
       "      <td>0.036</td>\n",
       "      <td>0.806</td>\n",
       "    </tr>\n",
       "    <tr>\n",
       "      <th>187</th>\n",
       "      <td>1220</td>\n",
       "      <td>YOGURT,VANILLA,LOFAT,11 GRAMS PROT PER 8 OZ,FO...</td>\n",
       "      <td>85</td>\n",
       "      <td>13.80</td>\n",
       "      <td>4.93</td>\n",
       "      <td>1.25</td>\n",
       "      <td>0.343</td>\n",
       "      <td>0.036</td>\n",
       "      <td>0.806</td>\n",
       "    </tr>\n",
       "    <tr>\n",
       "      <th>241</th>\n",
       "      <td>1295</td>\n",
       "      <td>YOGURT,VANILLA,NON-FAT</td>\n",
       "      <td>78</td>\n",
       "      <td>17.04</td>\n",
       "      <td>2.94</td>\n",
       "      <td>0.00</td>\n",
       "      <td>0.000</td>\n",
       "      <td>0.000</td>\n",
       "      <td>0.000</td>\n",
       "    </tr>\n",
       "    <tr>\n",
       "      <th>4744</th>\n",
       "      <td>16004</td>\n",
       "      <td>YOKAN,PREP FROM ADZUKI BNS &amp; SUGAR</td>\n",
       "      <td>260</td>\n",
       "      <td>60.72</td>\n",
       "      <td>3.29</td>\n",
       "      <td>0.12</td>\n",
       "      <td>0.011</td>\n",
       "      <td>0.026</td>\n",
       "      <td>0.043</td>\n",
       "    </tr>\n",
       "    <tr>\n",
       "      <th>468</th>\n",
       "      <td>3217</td>\n",
       "      <td>ZWIEBACK</td>\n",
       "      <td>426</td>\n",
       "      <td>74.20</td>\n",
       "      <td>10.10</td>\n",
       "      <td>9.70</td>\n",
       "      <td>4.244</td>\n",
       "      <td>2.073</td>\n",
       "      <td>2.525</td>\n",
       "    </tr>\n",
       "  </tbody>\n",
       "</table>\n",
       "<p>8790 rows × 9 columns</p>\n",
       "</div>"
      ],
      "text/plain": [
       "        No.                                        Description  Energy (Kcal)  \\\n",
       "4633  15155                          ABALONE,MIXED SPECIES,RAW            105   \n",
       "4634  15156                           ABALONE,MXD SP,CKD,FRIED            189   \n",
       "2427   9427                                        ABIYUCH,RAW             69   \n",
       "2120   9002                                  ACEROLA JUICE,RAW             23   \n",
       "2119   9001                   ACEROLA,(WEST INDIAN CHERRY),RAW             32   \n",
       "...     ...                                                ...            ...   \n",
       "107    1119        YOGURT,VANILLA,LOFAT,11 GRAMS PROT PER 8 OZ             85   \n",
       "187    1220  YOGURT,VANILLA,LOFAT,11 GRAMS PROT PER 8 OZ,FO...             85   \n",
       "241    1295                             YOGURT,VANILLA,NON-FAT             78   \n",
       "4744  16004                 YOKAN,PREP FROM ADZUKI BNS & SUGAR            260   \n",
       "468    3217                                           ZWIEBACK            426   \n",
       "\n",
       "      Carbohydrate(g)  Protein(g)  Total Lipid(g)  \\\n",
       "4633             6.01       17.10            0.76   \n",
       "4634            11.05       19.63            6.78   \n",
       "2427            17.60        1.50            0.10   \n",
       "2120             4.80        0.40            0.30   \n",
       "2119             7.69        0.40            0.30   \n",
       "...               ...         ...             ...   \n",
       "107             13.80        4.93            1.25   \n",
       "187             13.80        4.93            1.25   \n",
       "241             17.04        2.94            0.00   \n",
       "4744            60.72        3.29            0.12   \n",
       "468             74.20       10.10            9.70   \n",
       "\n",
       "      Monounsaturated Fatty Acids(g)  Polyunsaturated Fatty Acids(g)  \\\n",
       "4633                           0.107                           0.104   \n",
       "4634                           2.741                           1.676   \n",
       "2427                             NaN                             NaN   \n",
       "2120                           0.082                           0.090   \n",
       "2119                           0.082                           0.090   \n",
       "...                              ...                             ...   \n",
       "107                            0.343                           0.036   \n",
       "187                            0.343                           0.036   \n",
       "241                            0.000                           0.000   \n",
       "4744                           0.011                           0.026   \n",
       "468                            4.244                           2.073   \n",
       "\n",
       "      Saturated Fatty Acids(g)  \n",
       "4633                     0.149  \n",
       "4634                     1.646  \n",
       "2427                     0.014  \n",
       "2120                     0.068  \n",
       "2119                     0.068  \n",
       "...                        ...  \n",
       "107                      0.806  \n",
       "187                      0.806  \n",
       "241                      0.000  \n",
       "4744                     0.043  \n",
       "468                      2.525  \n",
       "\n",
       "[8790 rows x 9 columns]"
      ]
     },
     "execution_count": 10,
     "metadata": {},
     "output_type": "execute_result"
    }
   ],
   "source": [
    "# Sort the dataset by Description and their number\n",
    "macroNutrient_Orig = macroNutrient_Orig.sort_values(by=['Description','No.'])\n",
    "macroNutrient_Orig"
   ]
  },
  {
   "cell_type": "markdown",
   "id": "aedcabd6",
   "metadata": {},
   "source": [
    "### Feature Engineering"
   ]
  },
  {
   "cell_type": "code",
   "execution_count": 11,
   "id": "0b987bc1",
   "metadata": {},
   "outputs": [],
   "source": [
    "# insert a new feature called Category\n",
    "macroNutrient_Orig.insert(2, \"Category\", macroNutrient_Orig['Description'].str.split(\",\",expand=True)[0])"
   ]
  },
  {
   "cell_type": "code",
   "execution_count": 12,
   "id": "4834efa4",
   "metadata": {},
   "outputs": [
    {
     "data": {
      "text/plain": [
       "Category\n",
       "BEEF                                   929\n",
       "PORK                                   322\n",
       "LAMB                                   295\n",
       "CEREALS RTE                            258\n",
       "BEVERAGES                              247\n",
       "                                      ... \n",
       "FEIJOA                                   1\n",
       "PASTA W/ TOMATO SAU                      1\n",
       "PASTA W/SLICED FRANKS IN TOMATO SAU      1\n",
       "FAT FREE ICE CRM                         1\n",
       "ZWIEBACK                                 1\n",
       "Name: count, Length: 1392, dtype: int64"
      ]
     },
     "execution_count": 12,
     "metadata": {},
     "output_type": "execute_result"
    }
   ],
   "source": [
    "macroNutrient_Orig['Category'].value_counts()"
   ]
  },
  {
   "cell_type": "markdown",
   "id": "9990b281",
   "metadata": {},
   "source": [
    "### Handling Missing Values"
   ]
  },
  {
   "cell_type": "code",
   "execution_count": 13,
   "id": "fe3be53e320cab09",
   "metadata": {
    "ExecuteTime": {
     "end_time": "2024-03-23T20:11:50.036671Z",
     "start_time": "2024-03-23T20:11:50.031051Z"
    }
   },
   "outputs": [
    {
     "data": {
      "text/plain": [
       "No.                                 0\n",
       "Description                         0\n",
       "Category                            0\n",
       "Energy (Kcal)                       0\n",
       "Carbohydrate(g)                     0\n",
       "Protein(g)                          0\n",
       "Total Lipid(g)                      0\n",
       "Monounsaturated Fatty Acids(g)    666\n",
       "Polyunsaturated Fatty Acids(g)    665\n",
       "Saturated Fatty Acids(g)          349\n",
       "dtype: int64"
      ]
     },
     "execution_count": 13,
     "metadata": {},
     "output_type": "execute_result"
    }
   ],
   "source": [
    "# check missing value(s)\n",
    "macroNutrient_Orig.isnull().sum()"
   ]
  },
  {
   "cell_type": "code",
   "execution_count": 14,
   "id": "6e0126d6eb720c55",
   "metadata": {
    "ExecuteTime": {
     "end_time": "2024-03-23T20:11:50.042593Z",
     "start_time": "2024-03-23T20:11:50.037735Z"
    }
   },
   "outputs": [],
   "source": [
    "# Find column(s) with missing value(s)\n",
    "col_missing_value = macroNutrient_Orig.columns[macroNutrient_Orig.isnull().any()]"
   ]
  },
  {
   "cell_type": "code",
   "execution_count": 15,
   "id": "421a3afd1cc12f1c",
   "metadata": {
    "ExecuteTime": {
     "end_time": "2024-03-23T20:11:50.083526Z",
     "start_time": "2024-03-23T20:11:50.043651Z"
    }
   },
   "outputs": [],
   "source": [
    "# Method 1 : Fill missing values with specific value(0)\n",
    "\n",
    "macroNutrient_zero = macroNutrient_Orig.copy()\n",
    "\n",
    "macroNutrient_zero.fillna(0, inplace = True)\n",
    "macroNutrient_zero.to_csv('../Dataset/Dataset for EDA/macroNutrient_zero.csv', index = False)"
   ]
  },
  {
   "cell_type": "code",
   "execution_count": 16,
   "id": "c8f69223d26099cd",
   "metadata": {
    "ExecuteTime": {
     "end_time": "2024-03-23T20:11:50.089902Z",
     "start_time": "2024-03-23T20:11:50.084701Z"
    }
   },
   "outputs": [
    {
     "data": {
      "text/plain": [
       "No.                               0\n",
       "Description                       0\n",
       "Category                          0\n",
       "Energy (Kcal)                     0\n",
       "Carbohydrate(g)                   0\n",
       "Protein(g)                        0\n",
       "Total Lipid(g)                    0\n",
       "Monounsaturated Fatty Acids(g)    0\n",
       "Polyunsaturated Fatty Acids(g)    0\n",
       "Saturated Fatty Acids(g)          0\n",
       "dtype: int64"
      ]
     },
     "execution_count": 16,
     "metadata": {},
     "output_type": "execute_result"
    }
   ],
   "source": [
    "macroNutrient_zero.isnull().sum()"
   ]
  },
  {
   "cell_type": "code",
   "execution_count": 17,
   "id": "2135fd1706197c13",
   "metadata": {
    "ExecuteTime": {
     "end_time": "2024-03-23T20:11:50.128595Z",
     "start_time": "2024-03-23T20:11:50.089902Z"
    }
   },
   "outputs": [],
   "source": [
    "# Method 2 : Fill missing values with MEAN of column\n",
    "\n",
    "macroNutrient_mean = macroNutrient_Orig.copy()\n",
    "\n",
    "for i in col_missing_value:\n",
    "    macroNutrient_mean[i].fillna(macroNutrient_mean[i].mean(), inplace = True)\n",
    "\n",
    "macroNutrient_mean.to_csv('../Dataset/Dataset for EDA/macroNutrient_mean.csv', index = False)"
   ]
  },
  {
   "cell_type": "code",
   "execution_count": 18,
   "id": "a49c5cd9b88aef9a",
   "metadata": {
    "ExecuteTime": {
     "end_time": "2024-03-23T20:11:50.134901Z",
     "start_time": "2024-03-23T20:11:50.129624Z"
    }
   },
   "outputs": [
    {
     "data": {
      "text/plain": [
       "No.                               0\n",
       "Description                       0\n",
       "Category                          0\n",
       "Energy (Kcal)                     0\n",
       "Carbohydrate(g)                   0\n",
       "Protein(g)                        0\n",
       "Total Lipid(g)                    0\n",
       "Monounsaturated Fatty Acids(g)    0\n",
       "Polyunsaturated Fatty Acids(g)    0\n",
       "Saturated Fatty Acids(g)          0\n",
       "dtype: int64"
      ]
     },
     "execution_count": 18,
     "metadata": {},
     "output_type": "execute_result"
    }
   ],
   "source": [
    "macroNutrient_mean.isnull().sum()"
   ]
  },
  {
   "cell_type": "code",
   "execution_count": 19,
   "id": "1f3fea4d49d38604",
   "metadata": {
    "ExecuteTime": {
     "end_time": "2024-03-23T20:11:50.171689Z",
     "start_time": "2024-03-23T20:11:50.135908Z"
    }
   },
   "outputs": [],
   "source": [
    "# Method 3 : Fill missing values with MEDIAN of column\n",
    "\n",
    "macroNutrient_median = macroNutrient_Orig.copy()\n",
    "\n",
    "for i in col_missing_value:\n",
    "    macroNutrient_median[i].fillna(macroNutrient_median[i].median(), inplace = True)\n",
    "\n",
    "macroNutrient_median.to_csv('../Dataset/Dataset for EDA/macroNutrient_median.csv', index = False)"
   ]
  },
  {
   "cell_type": "code",
   "execution_count": 20,
   "id": "8f1892bc1aff46e6",
   "metadata": {
    "ExecuteTime": {
     "end_time": "2024-03-23T20:11:50.176834Z",
     "start_time": "2024-03-23T20:11:50.172731Z"
    }
   },
   "outputs": [
    {
     "data": {
      "text/plain": [
       "No.                               0\n",
       "Description                       0\n",
       "Category                          0\n",
       "Energy (Kcal)                     0\n",
       "Carbohydrate(g)                   0\n",
       "Protein(g)                        0\n",
       "Total Lipid(g)                    0\n",
       "Monounsaturated Fatty Acids(g)    0\n",
       "Polyunsaturated Fatty Acids(g)    0\n",
       "Saturated Fatty Acids(g)          0\n",
       "dtype: int64"
      ]
     },
     "execution_count": 20,
     "metadata": {},
     "output_type": "execute_result"
    }
   ],
   "source": [
    "macroNutrient_median.isnull().sum()"
   ]
  },
  {
   "cell_type": "code",
   "execution_count": 21,
   "id": "d20a1e659266925c",
   "metadata": {
    "ExecuteTime": {
     "end_time": "2024-03-23T20:11:50.214841Z",
     "start_time": "2024-03-23T20:11:50.176834Z"
    }
   },
   "outputs": [],
   "source": [
    "# Method 4 : Filling missing value with MODE of column \n",
    "\n",
    "macroNutrient_mode = macroNutrient_Orig.copy()\n",
    "\n",
    "for i in col_missing_value:\n",
    "    macroNutrient_mode[i].fillna(macroNutrient_mode[i].mode().iloc[0], inplace = True)\n",
    "\n",
    "macroNutrient_mode.to_csv('../Dataset/Dataset for EDA/macroNutrient_mode.csv', index = False)"
   ]
  },
  {
   "cell_type": "code",
   "execution_count": 22,
   "id": "7e8bfafa77cd634",
   "metadata": {
    "ExecuteTime": {
     "end_time": "2024-03-23T20:11:50.221435Z",
     "start_time": "2024-03-23T20:11:50.216906Z"
    }
   },
   "outputs": [
    {
     "data": {
      "text/plain": [
       "No.                               0\n",
       "Description                       0\n",
       "Category                          0\n",
       "Energy (Kcal)                     0\n",
       "Carbohydrate(g)                   0\n",
       "Protein(g)                        0\n",
       "Total Lipid(g)                    0\n",
       "Monounsaturated Fatty Acids(g)    0\n",
       "Polyunsaturated Fatty Acids(g)    0\n",
       "Saturated Fatty Acids(g)          0\n",
       "dtype: int64"
      ]
     },
     "execution_count": 22,
     "metadata": {},
     "output_type": "execute_result"
    }
   ],
   "source": [
    "macroNutrient_mode.isna().sum()"
   ]
  },
  {
   "cell_type": "code",
   "execution_count": 23,
   "id": "82f02f942446a27",
   "metadata": {
    "ExecuteTime": {
     "end_time": "2024-03-23T20:11:50.258789Z",
     "start_time": "2024-03-23T20:11:50.222470Z"
    }
   },
   "outputs": [],
   "source": [
    "# Method 5 : Fill missing value with forward fill method\n",
    "\n",
    "macroNutrient_ffill = macroNutrient_Orig.copy()\n",
    "\n",
    "macroNutrient_ffill.ffill(inplace = True)\n",
    "\n",
    "macroNutrient_ffill.to_csv('../Dataset/Dataset for EDA/macroNutrient_ffill.csv', index = False)"
   ]
  },
  {
   "cell_type": "code",
   "execution_count": 24,
   "id": "bce1670757acc135",
   "metadata": {
    "ExecuteTime": {
     "end_time": "2024-03-23T20:11:50.264355Z",
     "start_time": "2024-03-23T20:11:50.259795Z"
    }
   },
   "outputs": [
    {
     "data": {
      "text/plain": [
       "No.                               0\n",
       "Description                       0\n",
       "Category                          0\n",
       "Energy (Kcal)                     0\n",
       "Carbohydrate(g)                   0\n",
       "Protein(g)                        0\n",
       "Total Lipid(g)                    0\n",
       "Monounsaturated Fatty Acids(g)    0\n",
       "Polyunsaturated Fatty Acids(g)    0\n",
       "Saturated Fatty Acids(g)          0\n",
       "dtype: int64"
      ]
     },
     "execution_count": 24,
     "metadata": {},
     "output_type": "execute_result"
    }
   ],
   "source": [
    "macroNutrient_ffill.isnull().sum()"
   ]
  },
  {
   "cell_type": "code",
   "execution_count": 25,
   "id": "9668aa7470e8d810",
   "metadata": {
    "ExecuteTime": {
     "end_time": "2024-03-23T20:11:50.302083Z",
     "start_time": "2024-03-23T20:11:50.265388Z"
    }
   },
   "outputs": [],
   "source": [
    "# Method 6 : Fill missing value with backward fill method\n",
    "\n",
    "macroNutrient_bfill = macroNutrient_Orig.copy()\n",
    "\n",
    "macroNutrient_bfill.bfill(inplace = True)\n",
    "\n",
    "macroNutrient_bfill.to_csv('../Dataset/Dataset for EDA/macroNutrient_bfill.csv', index = False)"
   ]
  },
  {
   "cell_type": "code",
   "execution_count": 26,
   "id": "8565ac512e3b74dc",
   "metadata": {
    "ExecuteTime": {
     "end_time": "2024-03-23T20:11:50.308375Z",
     "start_time": "2024-03-23T20:11:50.303128Z"
    }
   },
   "outputs": [
    {
     "data": {
      "text/plain": [
       "No.                               0\n",
       "Description                       0\n",
       "Category                          0\n",
       "Energy (Kcal)                     0\n",
       "Carbohydrate(g)                   0\n",
       "Protein(g)                        0\n",
       "Total Lipid(g)                    0\n",
       "Monounsaturated Fatty Acids(g)    0\n",
       "Polyunsaturated Fatty Acids(g)    0\n",
       "Saturated Fatty Acids(g)          0\n",
       "dtype: int64"
      ]
     },
     "execution_count": 26,
     "metadata": {},
     "output_type": "execute_result"
    }
   ],
   "source": [
    "macroNutrient_bfill.isnull().sum()"
   ]
  },
  {
   "cell_type": "code",
   "execution_count": 27,
   "id": "b1d6677b23ad2509",
   "metadata": {
    "ExecuteTime": {
     "end_time": "2024-03-23T20:11:50.346399Z",
     "start_time": "2024-03-23T20:11:50.308375Z"
    }
   },
   "outputs": [],
   "source": [
    "# Method 7 : Fill missing values with linear Interpolation method\n",
    "\n",
    "macroNutrient_LInterpolation = macroNutrient_Orig.copy()\n",
    "\n",
    "for i in col_missing_value:\n",
    "    macroNutrient_LInterpolation[i].interpolate(method='linear', inplace=True)\n",
    "\n",
    "macroNutrient_LInterpolation.to_csv('../Dataset/Dataset for EDA/macroNutrient_LInterpolation.csv', index = False)"
   ]
  },
  {
   "cell_type": "code",
   "execution_count": 28,
   "id": "67fcd567cf4fd26",
   "metadata": {
    "ExecuteTime": {
     "end_time": "2024-03-23T20:11:50.351567Z",
     "start_time": "2024-03-23T20:11:50.346399Z"
    }
   },
   "outputs": [
    {
     "data": {
      "text/plain": [
       "No.                               0\n",
       "Description                       0\n",
       "Category                          0\n",
       "Energy (Kcal)                     0\n",
       "Carbohydrate(g)                   0\n",
       "Protein(g)                        0\n",
       "Total Lipid(g)                    0\n",
       "Monounsaturated Fatty Acids(g)    0\n",
       "Polyunsaturated Fatty Acids(g)    0\n",
       "Saturated Fatty Acids(g)          0\n",
       "dtype: int64"
      ]
     },
     "execution_count": 28,
     "metadata": {},
     "output_type": "execute_result"
    }
   ],
   "source": [
    "macroNutrient_LInterpolation.isnull().sum()"
   ]
  },
  {
   "cell_type": "code",
   "execution_count": 29,
   "id": "cad9f216413492ef",
   "metadata": {
    "ExecuteTime": {
     "end_time": "2024-03-23T20:11:50.385508Z",
     "start_time": "2024-03-23T20:11:50.352589Z"
    }
   },
   "outputs": [],
   "source": [
    "# Method 8 : Remove the rows with missing values\n",
    "\n",
    "macroNutrient_removeRow = macroNutrient_Orig.copy()\n",
    "\n",
    "macroNutrient_removeRow = macroNutrient_removeRow[macroNutrient_removeRow[col_missing_value.to_list()].notnull().all(axis=1)]\n",
    "\n",
    "macroNutrient_removeRow.to_csv('../Dataset/Dataset for EDA/macroNutrient_removeRow.csv', index = False)"
   ]
  },
  {
   "cell_type": "code",
   "execution_count": 30,
   "id": "f9060df709c47966",
   "metadata": {
    "ExecuteTime": {
     "end_time": "2024-03-23T20:11:50.390616Z",
     "start_time": "2024-03-23T20:11:50.386549Z"
    }
   },
   "outputs": [
    {
     "data": {
      "text/plain": [
       "No.                               0\n",
       "Description                       0\n",
       "Category                          0\n",
       "Energy (Kcal)                     0\n",
       "Carbohydrate(g)                   0\n",
       "Protein(g)                        0\n",
       "Total Lipid(g)                    0\n",
       "Monounsaturated Fatty Acids(g)    0\n",
       "Polyunsaturated Fatty Acids(g)    0\n",
       "Saturated Fatty Acids(g)          0\n",
       "dtype: int64"
      ]
     },
     "execution_count": 30,
     "metadata": {},
     "output_type": "execute_result"
    }
   ],
   "source": [
    "macroNutrient_removeRow.isnull().sum()"
   ]
  },
  {
   "cell_type": "code",
   "execution_count": null,
   "id": "d1f791fc",
   "metadata": {},
   "outputs": [],
   "source": []
  }
 ],
 "metadata": {
  "kernelspec": {
   "display_name": "Python 3 (ipykernel)",
   "language": "python",
   "name": "python3"
  },
  "language_info": {
   "codemirror_mode": {
    "name": "ipython",
    "version": 3
   },
   "file_extension": ".py",
   "mimetype": "text/x-python",
   "name": "python",
   "nbconvert_exporter": "python",
   "pygments_lexer": "ipython3",
   "version": "3.9.17"
  }
 },
 "nbformat": 4,
 "nbformat_minor": 5
}
